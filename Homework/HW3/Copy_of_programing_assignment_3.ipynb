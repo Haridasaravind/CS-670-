{
  "nbformat": 4,
  "nbformat_minor": 0,
  "metadata": {
    "colab": {
      "provenance": []
    },
    "kernelspec": {
      "name": "python3",
      "display_name": "Python 3"
    },
    "language_info": {
      "name": "python"
    }
  },
  "cells": [
    {
      "cell_type": "markdown",
      "source": [
        "Name : Aravind Haridas"
      ],
      "metadata": {
        "id": "CiuG8cd7H8aR"
      }
    },
    {
      "cell_type": "code",
      "execution_count": null,
      "metadata": {
        "id": "X73zLq6Caq9w"
      },
      "outputs": [],
      "source": [
        "import keras\n",
        "import pickle\n",
        "from keras.datasets import mnist\n",
        "from keras.models import Sequential\n",
        "from keras.layers import Dense, Dropout, Flatten\n",
        "from keras import backend as K\n",
        "from keras.models import load_model\n",
        "import matplotlib.pyplot as plt\n",
        "import random as rnd\n",
        "import numpy as np\n",
        "from sklearn.preprocessing import MinMaxScaler"
      ]
    },
    {
      "cell_type": "markdown",
      "source": [
        "Mounting google drive"
      ],
      "metadata": {
        "id": "0QSSJWyzIB4P"
      }
    },
    {
      "cell_type": "code",
      "source": [
        "from google.colab import drive\n",
        "drive.mount('/content/drive')"
      ],
      "metadata": {
        "id": "Bn8heYeuFkk0",
        "colab": {
          "base_uri": "https://localhost:8080/"
        },
        "outputId": "1679fa19-4782-4bf0-8f50-14a76394d280"
      },
      "execution_count": null,
      "outputs": [
        {
          "output_type": "stream",
          "name": "stdout",
          "text": [
            "Drive already mounted at /content/drive; to attempt to forcibly remount, call drive.mount(\"/content/drive\", force_remount=True).\n"
          ]
        }
      ]
    },
    {
      "cell_type": "markdown",
      "source": [
        "Read dataset: chef_data.pickle\n",
        "\n",
        "The inputs are 22-element binary vectors. Each element represents one of the 22 chefs, with a 1 indicating that the chef participated in a given project and a 0 meaning that they did not. The outputs are 4-element vectors."
      ],
      "metadata": {
        "id": "4HAO85kbd_s_"
      }
    },
    {
      "cell_type": "code",
      "source": [
        "with open('/content/drive/MyDrive/chef_data.pickle', 'rb') as f:\n",
        "    (x_train, y_train), (x_test, y_test) = pickle.load(f)"
      ],
      "metadata": {
        "id": "-6YTBhsNbEyj"
      },
      "execution_count": null,
      "outputs": []
    },
    {
      "cell_type": "markdown",
      "source": [
        "# Scaling outputs to be larger than 0 and less than 1\n",
        "(Not exactly 0 or 1, because we want to use the sigmoid function that can only approach but never reach these values)"
      ],
      "metadata": {
        "id": "iFdX0ZoxfFKQ"
      }
    },
    {
      "cell_type": "code",
      "source": [
        "y_train_norm = (y_train - [-1, -1, 0, -100000]) / [12, 12, 2000, 300000]\n",
        "y_test_norm = (y_test - [-1, -1, 0, -100000]) / [12, 12, 2000, 300000]"
      ],
      "metadata": {
        "id": "irK9ZpH9eWt4"
      },
      "execution_count": null,
      "outputs": []
    },
    {
      "cell_type": "markdown",
      "source": [
        "Question1(10 points):\n",
        "write code to get the input dimensions from x_train"
      ],
      "metadata": {
        "id": "frrfIAQBK8L7"
      }
    },
    {
      "cell_type": "code",
      "source": [
        "num_inputs = x_train.shape[1]\n",
        "input_shape = (num_inputs,)\n",
        "batch_size = 100\n",
        "num_outputs = 4\n",
        "epochs = 100\n",
        "#write your code here\n",
        "# num_inputs =\n",
        "num_inputs = x_train.shape[1]\n",
        "input_shape = (num_inputs,)\n",
        "######\n",
        "input_shape = (num_inputs,)\n",
        "\n"
      ],
      "metadata": {
        "id": "2Sl5AKoOd8xL"
      },
      "execution_count": null,
      "outputs": []
    },
    {
      "cell_type": "markdown",
      "source": [
        "Question(50 points):\n",
        "Add neural network layers to match the model architecture.\n",
        "\n",
        "Architecture:\n",
        "\n",
        "hidden_layer1 (Dense) (None, 20)\n",
        "\n",
        "hidden_layer2 (Dense) (None, 20)\n",
        "\n",
        "hidden_layer3 (Dense) (None, 20)\n",
        "\n",
        "\n",
        "output (Dense) (None, 4)"
      ],
      "metadata": {
        "id": "8-u5BIVcO2Lm"
      }
    },
    {
      "cell_type": "code",
      "source": [
        "model = Sequential()\n",
        "model.add(Dense(20, input_shape=input_shape, activation='relu', name='input'))\n",
        "#write your code here\n",
        "model = Sequential()\n",
        "model.add(Dense(20, input_shape=input_shape, activation='relu', name='input'))\n",
        "\n",
        "# Add hidden_layer1\n",
        "model.add(Dense(20, activation='relu', name='hidden_layer1'))\n",
        "\n",
        "# Add hidden_layer2\n",
        "model.add(Dense(20, activation='relu', name='hidden_layer2'))\n",
        "\n",
        "# Add hidden_layer3\n",
        "model.add(Dense(20, activation='relu', name='hidden_layer3'))\n",
        "\n",
        "# Add the output layer\n",
        "model.add(Dense(num_outputs, activation='sigmoid', name='output'))\n",
        "\n",
        "# Compile the model (you need to specify a loss function and optimizer)\n",
        "model.compile(loss='mean_squared_error', optimizer='adam')\n",
        "\n",
        "# Summary of the model's architecture\n",
        "model.summary()\n",
        "\n",
        "############\n"
      ],
      "metadata": {
        "id": "p_4FVonUB177",
        "colab": {
          "base_uri": "https://localhost:8080/"
        },
        "outputId": "830154d5-96f1-48c8-97ca-0cc33339ef4c"
      },
      "execution_count": null,
      "outputs": [
        {
          "output_type": "stream",
          "name": "stdout",
          "text": [
            "Model: \"sequential_5\"\n",
            "_________________________________________________________________\n",
            " Layer (type)                Output Shape              Param #   \n",
            "=================================================================\n",
            " input (Dense)               (None, 20)                420       \n",
            "                                                                 \n",
            " hidden_layer1 (Dense)       (None, 20)                420       \n",
            "                                                                 \n",
            " hidden_layer2 (Dense)       (None, 20)                420       \n",
            "                                                                 \n",
            " hidden_layer3 (Dense)       (None, 20)                420       \n",
            "                                                                 \n",
            " output (Dense)              (None, 4)                 84        \n",
            "                                                                 \n",
            "=================================================================\n",
            "Total params: 1764 (6.89 KB)\n",
            "Trainable params: 1764 (6.89 KB)\n",
            "Non-trainable params: 0 (0.00 Byte)\n",
            "_________________________________________________________________\n"
          ]
        }
      ]
    },
    {
      "cell_type": "markdown",
      "source": [
        "Question 3(40 points):\n",
        "\n",
        "Design model.compile and model.fit calls to train the model.\n",
        "\n",
        "1) model.compile should use mse(mean square error) as loss, adam() as optimizer with learning rate =0.05, and metrics as accuracy.\n",
        "\n",
        "2)model.fit should use epochs=100 and batch_size=100"
      ],
      "metadata": {
        "id": "xAUfaJxbK7KT"
      }
    },
    {
      "cell_type": "code",
      "source": [
        "#write your code here\n",
        "from keras.optimizers import Adam\n",
        "\n",
        "# Compile the model\n",
        "learning_rate = 0.05\n",
        "optimizer = Adam(learning_rate=learning_rate)\n",
        "model.compile(loss='mean_squared_error', optimizer=optimizer, metrics=['accuracy'])\n",
        "\n",
        "# Train the model\n",
        "epochs = 100\n",
        "batch_size = 100\n",
        "\n",
        "history = model.fit(x_train, y_train_norm, epochs=epochs, batch_size=batch_size)\n",
        "\n",
        "# Display the model summary\n",
        "model.summary()\n"
      ],
      "metadata": {
        "id": "4TK5tpjtomO4",
        "colab": {
          "base_uri": "https://localhost:8080/"
        },
        "outputId": "0f82af3b-cae4-43e0-f000-76e02ea050e7"
      },
      "execution_count": null,
      "outputs": [
        {
          "output_type": "stream",
          "name": "stdout",
          "text": [
            "Epoch 1/100\n",
            "40/40 [==============================] - 1s 3ms/step - loss: 0.0175 - accuracy: 0.4852\n",
            "Epoch 2/100\n",
            "40/40 [==============================] - 0s 2ms/step - loss: 0.0115 - accuracy: 0.5888\n",
            "Epoch 3/100\n",
            "40/40 [==============================] - 0s 2ms/step - loss: 0.0101 - accuracy: 0.6070\n",
            "Epoch 4/100\n",
            "40/40 [==============================] - 0s 2ms/step - loss: 0.0096 - accuracy: 0.6210\n",
            "Epoch 5/100\n",
            "40/40 [==============================] - 0s 3ms/step - loss: 0.0090 - accuracy: 0.6323\n",
            "Epoch 6/100\n",
            "40/40 [==============================] - 0s 2ms/step - loss: 0.0086 - accuracy: 0.6528\n",
            "Epoch 7/100\n",
            "40/40 [==============================] - 0s 2ms/step - loss: 0.0084 - accuracy: 0.6712\n",
            "Epoch 8/100\n",
            "40/40 [==============================] - 0s 2ms/step - loss: 0.0084 - accuracy: 0.6917\n",
            "Epoch 9/100\n",
            "40/40 [==============================] - 0s 2ms/step - loss: 0.0081 - accuracy: 0.6885\n",
            "Epoch 10/100\n",
            "40/40 [==============================] - 0s 2ms/step - loss: 0.0077 - accuracy: 0.7015\n",
            "Epoch 11/100\n",
            "40/40 [==============================] - 0s 2ms/step - loss: 0.0079 - accuracy: 0.6938\n",
            "Epoch 12/100\n",
            "40/40 [==============================] - 0s 2ms/step - loss: 0.0078 - accuracy: 0.6905\n",
            "Epoch 13/100\n",
            "40/40 [==============================] - 0s 2ms/step - loss: 0.0076 - accuracy: 0.6975\n",
            "Epoch 14/100\n",
            "40/40 [==============================] - 0s 2ms/step - loss: 0.0074 - accuracy: 0.7005\n",
            "Epoch 15/100\n",
            "40/40 [==============================] - 0s 2ms/step - loss: 0.0075 - accuracy: 0.6975\n",
            "Epoch 16/100\n",
            "40/40 [==============================] - 0s 2ms/step - loss: 0.0074 - accuracy: 0.7060\n",
            "Epoch 17/100\n",
            "40/40 [==============================] - 0s 2ms/step - loss: 0.0076 - accuracy: 0.7042\n",
            "Epoch 18/100\n",
            "40/40 [==============================] - 0s 2ms/step - loss: 0.0073 - accuracy: 0.7045\n",
            "Epoch 19/100\n",
            "40/40 [==============================] - 0s 2ms/step - loss: 0.0073 - accuracy: 0.7005\n",
            "Epoch 20/100\n",
            "40/40 [==============================] - 0s 2ms/step - loss: 0.0074 - accuracy: 0.6985\n",
            "Epoch 21/100\n",
            "40/40 [==============================] - 0s 2ms/step - loss: 0.0073 - accuracy: 0.7013\n",
            "Epoch 22/100\n",
            "40/40 [==============================] - 0s 3ms/step - loss: 0.0071 - accuracy: 0.7060\n",
            "Epoch 23/100\n",
            "40/40 [==============================] - 0s 2ms/step - loss: 0.0071 - accuracy: 0.7050\n",
            "Epoch 24/100\n",
            "40/40 [==============================] - 0s 3ms/step - loss: 0.0073 - accuracy: 0.7060\n",
            "Epoch 25/100\n",
            "40/40 [==============================] - 0s 2ms/step - loss: 0.0071 - accuracy: 0.7090\n",
            "Epoch 26/100\n",
            "40/40 [==============================] - 0s 2ms/step - loss: 0.0070 - accuracy: 0.7103\n",
            "Epoch 27/100\n",
            "40/40 [==============================] - 0s 2ms/step - loss: 0.0071 - accuracy: 0.7038\n",
            "Epoch 28/100\n",
            "40/40 [==============================] - 0s 2ms/step - loss: 0.0070 - accuracy: 0.7120\n",
            "Epoch 29/100\n",
            "40/40 [==============================] - 0s 2ms/step - loss: 0.0071 - accuracy: 0.7092\n",
            "Epoch 30/100\n",
            "40/40 [==============================] - 0s 2ms/step - loss: 0.0070 - accuracy: 0.7128\n",
            "Epoch 31/100\n",
            "40/40 [==============================] - 0s 2ms/step - loss: 0.0072 - accuracy: 0.7105\n",
            "Epoch 32/100\n",
            "40/40 [==============================] - 0s 2ms/step - loss: 0.0071 - accuracy: 0.7035\n",
            "Epoch 33/100\n",
            "40/40 [==============================] - 0s 2ms/step - loss: 0.0071 - accuracy: 0.7115\n",
            "Epoch 34/100\n",
            "40/40 [==============================] - 0s 2ms/step - loss: 0.0070 - accuracy: 0.7122\n",
            "Epoch 35/100\n",
            "40/40 [==============================] - 0s 2ms/step - loss: 0.0069 - accuracy: 0.7040\n",
            "Epoch 36/100\n",
            "40/40 [==============================] - 0s 2ms/step - loss: 0.0068 - accuracy: 0.7082\n",
            "Epoch 37/100\n",
            "40/40 [==============================] - 0s 4ms/step - loss: 0.0071 - accuracy: 0.7107\n",
            "Epoch 38/100\n",
            "40/40 [==============================] - 0s 3ms/step - loss: 0.0071 - accuracy: 0.7032\n",
            "Epoch 39/100\n",
            "40/40 [==============================] - 0s 3ms/step - loss: 0.0071 - accuracy: 0.7117\n",
            "Epoch 40/100\n",
            "40/40 [==============================] - 0s 3ms/step - loss: 0.0069 - accuracy: 0.7090\n",
            "Epoch 41/100\n",
            "40/40 [==============================] - 0s 3ms/step - loss: 0.0070 - accuracy: 0.7140\n",
            "Epoch 42/100\n",
            "40/40 [==============================] - 0s 3ms/step - loss: 0.0068 - accuracy: 0.7138\n",
            "Epoch 43/100\n",
            "40/40 [==============================] - 0s 3ms/step - loss: 0.0069 - accuracy: 0.7225\n",
            "Epoch 44/100\n",
            "40/40 [==============================] - 0s 4ms/step - loss: 0.0068 - accuracy: 0.7190\n",
            "Epoch 45/100\n",
            "40/40 [==============================] - 0s 3ms/step - loss: 0.0069 - accuracy: 0.7100\n",
            "Epoch 46/100\n",
            "40/40 [==============================] - 0s 3ms/step - loss: 0.0067 - accuracy: 0.7180\n",
            "Epoch 47/100\n",
            "40/40 [==============================] - 0s 3ms/step - loss: 0.0068 - accuracy: 0.7143\n",
            "Epoch 48/100\n",
            "40/40 [==============================] - 0s 3ms/step - loss: 0.0068 - accuracy: 0.7163\n",
            "Epoch 49/100\n",
            "40/40 [==============================] - 0s 3ms/step - loss: 0.0069 - accuracy: 0.7147\n",
            "Epoch 50/100\n",
            "40/40 [==============================] - 0s 3ms/step - loss: 0.0068 - accuracy: 0.7140\n",
            "Epoch 51/100\n",
            "40/40 [==============================] - 0s 3ms/step - loss: 0.0068 - accuracy: 0.7057\n",
            "Epoch 52/100\n",
            "40/40 [==============================] - 0s 3ms/step - loss: 0.0069 - accuracy: 0.7170\n",
            "Epoch 53/100\n",
            "40/40 [==============================] - 0s 3ms/step - loss: 0.0069 - accuracy: 0.7125\n",
            "Epoch 54/100\n",
            "40/40 [==============================] - 0s 3ms/step - loss: 0.0067 - accuracy: 0.7132\n",
            "Epoch 55/100\n",
            "40/40 [==============================] - 0s 3ms/step - loss: 0.0069 - accuracy: 0.7120\n",
            "Epoch 56/100\n",
            "40/40 [==============================] - 0s 3ms/step - loss: 0.0070 - accuracy: 0.7090\n",
            "Epoch 57/100\n",
            "40/40 [==============================] - 0s 3ms/step - loss: 0.0068 - accuracy: 0.7140\n",
            "Epoch 58/100\n",
            "40/40 [==============================] - 0s 3ms/step - loss: 0.0068 - accuracy: 0.7132\n",
            "Epoch 59/100\n",
            "40/40 [==============================] - 0s 4ms/step - loss: 0.0069 - accuracy: 0.7085\n",
            "Epoch 60/100\n",
            "40/40 [==============================] - 0s 4ms/step - loss: 0.0068 - accuracy: 0.7067\n",
            "Epoch 61/100\n",
            "40/40 [==============================] - 0s 3ms/step - loss: 0.0069 - accuracy: 0.7085\n",
            "Epoch 62/100\n",
            "40/40 [==============================] - 0s 3ms/step - loss: 0.0069 - accuracy: 0.7028\n",
            "Epoch 63/100\n",
            "40/40 [==============================] - 0s 3ms/step - loss: 0.0067 - accuracy: 0.7175\n",
            "Epoch 64/100\n",
            "40/40 [==============================] - 0s 3ms/step - loss: 0.0066 - accuracy: 0.7147\n",
            "Epoch 65/100\n",
            "40/40 [==============================] - 0s 3ms/step - loss: 0.0068 - accuracy: 0.7172\n",
            "Epoch 66/100\n",
            "40/40 [==============================] - 0s 3ms/step - loss: 0.0071 - accuracy: 0.7110\n",
            "Epoch 67/100\n",
            "40/40 [==============================] - 0s 3ms/step - loss: 0.0069 - accuracy: 0.7088\n",
            "Epoch 68/100\n",
            "40/40 [==============================] - 0s 3ms/step - loss: 0.0068 - accuracy: 0.7115\n",
            "Epoch 69/100\n",
            "40/40 [==============================] - 0s 3ms/step - loss: 0.0068 - accuracy: 0.7147\n",
            "Epoch 70/100\n",
            "40/40 [==============================] - 0s 3ms/step - loss: 0.0070 - accuracy: 0.7107\n",
            "Epoch 71/100\n",
            "40/40 [==============================] - 0s 4ms/step - loss: 0.0068 - accuracy: 0.7090\n",
            "Epoch 72/100\n",
            "40/40 [==============================] - 0s 3ms/step - loss: 0.0068 - accuracy: 0.7088\n",
            "Epoch 73/100\n",
            "40/40 [==============================] - 0s 4ms/step - loss: 0.0067 - accuracy: 0.7135\n",
            "Epoch 74/100\n",
            "40/40 [==============================] - 0s 4ms/step - loss: 0.0069 - accuracy: 0.7065\n",
            "Epoch 75/100\n",
            "40/40 [==============================] - 0s 2ms/step - loss: 0.0068 - accuracy: 0.7175\n",
            "Epoch 76/100\n",
            "40/40 [==============================] - 0s 2ms/step - loss: 0.0067 - accuracy: 0.7165\n",
            "Epoch 77/100\n",
            "40/40 [==============================] - 0s 2ms/step - loss: 0.0067 - accuracy: 0.7205\n",
            "Epoch 78/100\n",
            "40/40 [==============================] - 0s 2ms/step - loss: 0.0065 - accuracy: 0.7182\n",
            "Epoch 79/100\n",
            "40/40 [==============================] - 0s 2ms/step - loss: 0.0067 - accuracy: 0.7138\n",
            "Epoch 80/100\n",
            "40/40 [==============================] - 0s 2ms/step - loss: 0.0071 - accuracy: 0.7032\n",
            "Epoch 81/100\n",
            "40/40 [==============================] - 0s 2ms/step - loss: 0.0067 - accuracy: 0.7125\n",
            "Epoch 82/100\n",
            "40/40 [==============================] - 0s 2ms/step - loss: 0.0066 - accuracy: 0.7122\n",
            "Epoch 83/100\n",
            "40/40 [==============================] - 0s 2ms/step - loss: 0.0066 - accuracy: 0.7138\n",
            "Epoch 84/100\n",
            "40/40 [==============================] - 0s 2ms/step - loss: 0.0068 - accuracy: 0.7113\n",
            "Epoch 85/100\n",
            "40/40 [==============================] - 0s 2ms/step - loss: 0.0067 - accuracy: 0.7117\n",
            "Epoch 86/100\n",
            "40/40 [==============================] - 0s 2ms/step - loss: 0.0069 - accuracy: 0.7117\n",
            "Epoch 87/100\n",
            "40/40 [==============================] - 0s 3ms/step - loss: 0.0066 - accuracy: 0.7138\n",
            "Epoch 88/100\n",
            "40/40 [==============================] - 0s 4ms/step - loss: 0.0066 - accuracy: 0.7147\n",
            "Epoch 89/100\n",
            "40/40 [==============================] - 0s 3ms/step - loss: 0.0067 - accuracy: 0.7165\n",
            "Epoch 90/100\n",
            "40/40 [==============================] - 0s 3ms/step - loss: 0.0066 - accuracy: 0.7178\n",
            "Epoch 91/100\n",
            "40/40 [==============================] - 0s 3ms/step - loss: 0.0066 - accuracy: 0.7078\n",
            "Epoch 92/100\n",
            "40/40 [==============================] - 0s 3ms/step - loss: 0.0067 - accuracy: 0.7115\n",
            "Epoch 93/100\n",
            "40/40 [==============================] - 0s 3ms/step - loss: 0.0068 - accuracy: 0.7157\n",
            "Epoch 94/100\n",
            "40/40 [==============================] - 0s 3ms/step - loss: 0.0069 - accuracy: 0.7130\n",
            "Epoch 95/100\n",
            "40/40 [==============================] - 0s 3ms/step - loss: 0.0067 - accuracy: 0.7095\n",
            "Epoch 96/100\n",
            "40/40 [==============================] - 0s 4ms/step - loss: 0.0068 - accuracy: 0.7085\n",
            "Epoch 97/100\n",
            "40/40 [==============================] - 0s 3ms/step - loss: 0.0068 - accuracy: 0.7080\n",
            "Epoch 98/100\n",
            "40/40 [==============================] - 0s 3ms/step - loss: 0.0068 - accuracy: 0.7092\n",
            "Epoch 99/100\n",
            "40/40 [==============================] - 0s 4ms/step - loss: 0.0067 - accuracy: 0.7122\n",
            "Epoch 100/100\n",
            "40/40 [==============================] - 0s 4ms/step - loss: 0.0067 - accuracy: 0.7125\n",
            "Model: \"sequential_5\"\n",
            "_________________________________________________________________\n",
            " Layer (type)                Output Shape              Param #   \n",
            "=================================================================\n",
            " input (Dense)               (None, 20)                420       \n",
            "                                                                 \n",
            " hidden_layer1 (Dense)       (None, 20)                420       \n",
            "                                                                 \n",
            " hidden_layer2 (Dense)       (None, 20)                420       \n",
            "                                                                 \n",
            " hidden_layer3 (Dense)       (None, 20)                420       \n",
            "                                                                 \n",
            " output (Dense)              (None, 4)                 84        \n",
            "                                                                 \n",
            "=================================================================\n",
            "Total params: 1764 (6.89 KB)\n",
            "Trainable params: 1764 (6.89 KB)\n",
            "Non-trainable params: 0 (0.00 Byte)\n",
            "_________________________________________________________________\n"
          ]
        }
      ]
    },
    {
      "cell_type": "code",
      "source": [
        "# Get the rescaled predictions for the test set and compute their deviation from the desired ones\n",
        "y_predict_norm = model.predict(x_test)\n",
        "\n",
        "\n",
        "y_predict = y_predict_norm * [12, 12, 3000, 300000] - [1, 1, 0, 100000]\n",
        "y_diff = y_predict - y_test\n",
        "y_stdev = np.std(y_diff, axis=0)\n",
        "\n",
        "print(y_stdev)\n",
        "\n",
        "plt.plot(y_predict[:50,1])\n",
        "plt.plot(y_test[:50,1])\n",
        "\n",
        "plt.show()\n"
      ],
      "metadata": {
        "id": "HL9sKUrkgetY",
        "colab": {
          "base_uri": "https://localhost:8080/",
          "height": 465
        },
        "outputId": "5d2fbcb5-832a-43a5-a5b3-fbee5915f316"
      },
      "execution_count": null,
      "outputs": [
        {
          "output_type": "stream",
          "name": "stdout",
          "text": [
            "32/32 [==============================] - 0s 1ms/step\n",
            "[1.04217791e+00 1.00997223e+00 2.18955626e+02 2.31312899e+04]\n"
          ]
        },
        {
          "output_type": "display_data",
          "data": {
            "text/plain": [
              "<Figure size 640x480 with 1 Axes>"
            ],
            "image/png": "[encoded data removed]"
          },
          "metadata": {}
        }
      ]
    }
  ]
}